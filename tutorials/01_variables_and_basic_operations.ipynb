{
  "nbformat": 4,
  "nbformat_minor": 0,
  "metadata": {
    "colab": {
      "provenance": []
    },
    "kernelspec": {
      "name": "python3",
      "display_name": "Python 3"
    },
    "language_info": {
      "name": "python"
    }
  },
  "cells": [
    {
      "cell_type": "code",
      "execution_count": null,
      "metadata": {
        "id": "A5mhYnFLGX0k",
        "colab": {
          "base_uri": "https://localhost:8080/"
        },
        "outputId": "591f0965-122f-4bf0-959a-406834b3e182"
      },
      "outputs": [
        {
          "output_type": "stream",
          "name": "stdout",
          "text": [
            "5 6 3\n",
            "5 6 11\n",
            "15\n"
          ]
        }
      ],
      "source": [
        "# variables and print\n",
        "# integer variables\n",
        "x = 5\n",
        "y = 6\n",
        "z = 1 + 2\n",
        "print(x, y, z)\n",
        "z = x + y\n",
        "print(x, y, z)\n",
        "z = 3*x\n",
        "print(z)"
      ]
    },
    {
      "cell_type": "code",
      "source": [
        "# multiple assignments\n",
        "a , b = 'Alice' , 12"
      ],
      "metadata": {
        "id": "keS4x0dDllFc"
      },
      "execution_count": null,
      "outputs": []
    },
    {
      "cell_type": "code",
      "source": [
        "# float variables\n",
        "d = 3.2\n",
        "print(d + z)"
      ],
      "metadata": {
        "id": "6bKRi_dsiEVc",
        "colab": {
          "base_uri": "https://localhost:8080/"
        },
        "outputId": "e06887f4-38d0-4d53-d8e2-90802218d49a"
      },
      "execution_count": null,
      "outputs": [
        {
          "output_type": "stream",
          "name": "stdout",
          "text": [
            "18.2\n"
          ]
        }
      ]
    },
    {
      "cell_type": "code",
      "source": [
        "# string variables\n",
        "s = 'my name is '\n",
        "t = 'Alice'\n",
        "w = s + t # '+' in strings means concatenation\n",
        "print(s, t)\n",
        "print(w)\n",
        "r = s * 4\n",
        "print(r)\n",
        "print(f'Hello, {t}!')"
      ],
      "metadata": {
        "id": "HyB-JrGViM7T",
        "colab": {
          "base_uri": "https://localhost:8080/"
        },
        "outputId": "eb1aac45-fdf9-4f14-c785-46ae87b00245"
      },
      "execution_count": null,
      "outputs": [
        {
          "output_type": "stream",
          "name": "stdout",
          "text": [
            "my name is  Maximos\n",
            "my name is Maximos\n",
            "my name is my name is my name is my name is \n",
            "Hello, Maximos!\n"
          ]
        }
      ]
    },
    {
      "cell_type": "code",
      "source": [
        "# Boolean variables\n",
        "b = True\n",
        "print(b)\n",
        "c = False\n",
        "print(b + c)\n",
        "print(b and c)\n",
        "print(b or c)\n",
        "print(not b)"
      ],
      "metadata": {
        "colab": {
          "base_uri": "https://localhost:8080/"
        },
        "id": "cKGDhYL_bsLA",
        "outputId": "8e92968a-b146-4f2d-d23e-4fbb3d0571de"
      },
      "execution_count": null,
      "outputs": [
        {
          "output_type": "stream",
          "name": "stdout",
          "text": [
            "True\n",
            "1\n",
            "False\n",
            "True\n",
            "False\n"
          ]
        }
      ]
    },
    {
      "cell_type": "code",
      "source": [
        "# identify type\n",
        "x = 3\n",
        "print(type(x))\n",
        "y = 3.14\n",
        "print(type(y))\n",
        "s = 'Hello!'\n",
        "print(type(s))\n",
        "b = True\n",
        "print(type(b))"
      ],
      "metadata": {
        "colab": {
          "base_uri": "https://localhost:8080/"
        },
        "id": "b3jmODNph8RU",
        "outputId": "77009f8f-9783-4ca8-ed28-06e2b5ee6ce6"
      },
      "execution_count": null,
      "outputs": [
        {
          "output_type": "stream",
          "name": "stdout",
          "text": [
            "<class 'int'>\n",
            "<class 'float'>\n",
            "<class 'str'>\n",
            "<class 'bool'>\n"
          ]
        }
      ]
    },
    {
      "cell_type": "code",
      "source": [
        "print( 'x =', x )\n",
        "# print( 'x =' + x )\n",
        "# print( x + 'x =' )\n",
        "# numeric to string\n",
        "print( 'x = ' + str(x) )\n",
        "# TODO: show str individually"
      ],
      "metadata": {
        "id": "AIHXVipMiOvi",
        "colab": {
          "base_uri": "https://localhost:8080/"
        },
        "outputId": "e92feb8f-f6c2-4823-aab3-078e7ded9758"
      },
      "execution_count": null,
      "outputs": [
        {
          "output_type": "stream",
          "name": "stdout",
          "text": [
            "x = 5\n",
            "x = 5\n"
          ]
        }
      ]
    },
    {
      "cell_type": "code",
      "source": [
        "# special string operations\n",
        "s = 'This is a string - that needs to be - splitted'\n",
        "t = s.split('-')\n",
        "print(t)\n",
        "t = s.replace(' ', '_')\n",
        "print(t)\n",
        "# lower and upper\n",
        "s_upper = s.upper()\n",
        "print(s_upper)\n",
        "s_lower = s.lower()\n",
        "print(s_lower)\n",
        "# TODO str of numeric\n",
        "# TODO str to int\n",
        "x = '54'\n",
        "print(type(x))\n",
        "y = int(x)\n",
        "print(type(y))\n",
        "print(y)\n",
        "z = float(x)\n",
        "print(type(z))\n",
        "print(z)"
      ],
      "metadata": {
        "colab": {
          "base_uri": "https://localhost:8080/"
        },
        "id": "GJ9jukjQsnfI",
        "outputId": "78001fce-9a39-4074-e902-6d09dac4f334"
      },
      "execution_count": null,
      "outputs": [
        {
          "output_type": "stream",
          "name": "stdout",
          "text": [
            "['This is a string ', ' that needs to be ', ' splitted']\n",
            "This_is_a_string_-_that_needs_to_be_-_splitted\n",
            "THIS IS A STRING - THAT NEEDS TO BE - SPLITTED\n",
            "this is a string - that needs to be - splitted\n",
            "<class 'str'>\n",
            "<class 'int'>\n",
            "54\n",
            "<class 'float'>\n",
            "54.0\n"
          ]
        }
      ]
    },
    {
      "cell_type": "code",
      "source": [
        "print('lala'.isdigit())\n",
        "print('54'.isdigit())"
      ],
      "metadata": {
        "colab": {
          "base_uri": "https://localhost:8080/"
        },
        "id": "r_upou4dlf_W",
        "outputId": "639b9a85-58e6-4d97-d59d-7a9687ed17f8"
      },
      "execution_count": null,
      "outputs": [
        {
          "output_type": "stream",
          "name": "stdout",
          "text": [
            "False\n",
            "True\n"
          ]
        }
      ]
    }
  ]
}